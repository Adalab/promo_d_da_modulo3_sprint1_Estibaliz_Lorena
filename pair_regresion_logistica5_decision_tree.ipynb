{
 "cells": [
  {
   "attachments": {},
   "cell_type": "markdown",
   "metadata": {},
   "source": [
    "##### PAIR PROGRAMMING - REGRESIÓN LOGÍSTICA - DECISION TREE"
   ]
  },
  {
   "attachments": {},
   "cell_type": "markdown",
   "metadata": {},
   "source": [
    "Hasta ahora hemos ajustado el modelo usando una Regresión Logística, pero como hemos aprendido, podemos usar el Decision Tree en este tipo de problemas. Los objetivos de este pair programming :"
   ]
  },
  {
   "attachments": {},
   "cell_type": "markdown",
   "metadata": {},
   "source": [
    "- Ajustad un modelo de Decision Tree a nuestros datos.\n",
    "- Calculad las métricas a nuestro nuevo modelo.\n",
    "- Comparad las métricas con el modelo hecho hasta ahora. ¿Cuál es mejor?"
   ]
  },
  {
   "cell_type": "code",
   "execution_count": null,
   "metadata": {},
   "outputs": [],
   "source": []
  }
 ],
 "metadata": {
  "kernelspec": {
   "display_name": "Python 3",
   "language": "python",
   "name": "python3"
  },
  "language_info": {
   "name": "python",
   "version": "3.9.13"
  },
  "orig_nbformat": 4,
  "vscode": {
   "interpreter": {
    "hash": "3a19f00f41f77a1ebaccda73eb3290ec65e6f87c37187114d21c22f44ded00c5"
   }
  }
 },
 "nbformat": 4,
 "nbformat_minor": 2
}
