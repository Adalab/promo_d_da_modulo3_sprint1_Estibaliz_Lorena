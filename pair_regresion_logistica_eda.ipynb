{
 "cells": [
  {
   "attachments": {},
   "cell_type": "markdown",
   "metadata": {},
   "source": [
    "#### PAIR PROGRAMMING - REGRESIÓN LOGÍSTICA - EDA"
   ]
  },
  {
   "attachments": {},
   "cell_type": "markdown",
   "metadata": {},
   "source": [
    "Para los ejercicios de pair programming de Regresión logística temdremos que buscar un dataset (al igual que hicismos en regresión lineal) que usaremosmos a lo largo de los siguientes ejercicios.\n",
    "\n",
    "Se ruega a la hora de realizar la entrega que incluyais el conjunto de datos que hayais decidido emplear para estos ejercicios."
   ]
  },
  {
   "attachments": {},
   "cell_type": "markdown",
   "metadata": {},
   "source": [
    "Objetivos:\n",
    "- Buscar un conjunto de datos a analizar\n",
    "  Se recomienda que el conjunto de datos a analizar tenga variables numéricas y categóricas, primando que haya más de una variable de tipo numérico.\n",
    "- Explicar los datos y las variables disponibles en el conjunto de datos seleccionado\n",
    "- Realizar un EDA sencillo poniendo en práctica los conocimientos adquiridos hasta el momento.\n",
    "- nterpretación de los resultados."
   ]
  },
  {
   "cell_type": "code",
   "execution_count": null,
   "metadata": {},
   "outputs": [],
   "source": []
  }
 ],
 "metadata": {
  "kernelspec": {
   "display_name": "Python 3",
   "language": "python",
   "name": "python3"
  },
  "language_info": {
   "name": "python",
   "version": "3.9.13"
  },
  "orig_nbformat": 4,
  "vscode": {
   "interpreter": {
    "hash": "3a19f00f41f77a1ebaccda73eb3290ec65e6f87c37187114d21c22f44ded00c5"
   }
  }
 },
 "nbformat": 4,
 "nbformat_minor": 2
}
