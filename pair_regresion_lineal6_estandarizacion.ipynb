{
 "cells": [
  {
   "attachments": {},
   "cell_type": "markdown",
   "metadata": {},
   "source": [
    "##### PAIR PROGRAMMING - REGRESIÓN LINEAL 6"
   ]
  },
  {
   "cell_type": "code",
   "execution_count": 1,
   "metadata": {},
   "outputs": [],
   "source": [
    "# Tratamiento de datos\n",
    "# -----------------------------------------------------------------------\n",
    "import pandas as pd\n",
    "import numpy as np\n",
    "\n",
    "# Gráficos\n",
    "# ------------------------------------------------------------------------------\n",
    "import seaborn as sns\n",
    "import matplotlib.pyplot as plt\n",
    "\n",
    "# Transformación de los datos\n",
    "# ------------------------------------------------------------------------------\n",
    "from scipy import stats\n",
    "import math \n",
    "from sklearn.preprocessing import MinMaxScaler\n",
    "from sklearn.preprocessing import RobustScaler\n",
    "from sklearn.preprocessing import StandardScaler\n",
    "\n",
    "# Para la gestión de los warning\n",
    "# ------------------------------------------------------------------------------\n",
    "import warnings\n",
    "warnings.filterwarnings('ignore')\n",
    "\n",
    "# Para poder ver todas las columnas del dataframe\n",
    "# ------------------------------------------------------------------------------\n",
    "pd.options.display.max_columns = None "
   ]
  },
  {
   "cell_type": "code",
   "execution_count": 2,
   "metadata": {},
   "outputs": [
    {
     "data": {
      "text/html": [
       "<div>\n",
       "<style scoped>\n",
       "    .dataframe tbody tr th:only-of-type {\n",
       "        vertical-align: middle;\n",
       "    }\n",
       "\n",
       "    .dataframe tbody tr th {\n",
       "        vertical-align: top;\n",
       "    }\n",
       "\n",
       "    .dataframe thead th {\n",
       "        text-align: right;\n",
       "    }\n",
       "</style>\n",
       "<table border=\"1\" class=\"dataframe\">\n",
       "  <thead>\n",
       "    <tr style=\"text-align: right;\">\n",
       "      <th></th>\n",
       "      <th>Type</th>\n",
       "      <th>Total</th>\n",
       "      <th>HP</th>\n",
       "      <th>Attack</th>\n",
       "      <th>Defense</th>\n",
       "      <th>Sp.Atk</th>\n",
       "      <th>Sp.Def</th>\n",
       "      <th>Speed</th>\n",
       "      <th>Speed_BOX</th>\n",
       "    </tr>\n",
       "  </thead>\n",
       "  <tbody>\n",
       "    <tr>\n",
       "      <th>0</th>\n",
       "      <td>Grass</td>\n",
       "      <td>318</td>\n",
       "      <td>45</td>\n",
       "      <td>49</td>\n",
       "      <td>49</td>\n",
       "      <td>65</td>\n",
       "      <td>65</td>\n",
       "      <td>45</td>\n",
       "      <td>16.160251</td>\n",
       "    </tr>\n",
       "    <tr>\n",
       "      <th>1</th>\n",
       "      <td>Poison</td>\n",
       "      <td>318</td>\n",
       "      <td>45</td>\n",
       "      <td>49</td>\n",
       "      <td>49</td>\n",
       "      <td>65</td>\n",
       "      <td>65</td>\n",
       "      <td>45</td>\n",
       "      <td>16.160251</td>\n",
       "    </tr>\n",
       "    <tr>\n",
       "      <th>2</th>\n",
       "      <td>Grass</td>\n",
       "      <td>405</td>\n",
       "      <td>60</td>\n",
       "      <td>62</td>\n",
       "      <td>63</td>\n",
       "      <td>80</td>\n",
       "      <td>80</td>\n",
       "      <td>60</td>\n",
       "      <td>19.724770</td>\n",
       "    </tr>\n",
       "    <tr>\n",
       "      <th>3</th>\n",
       "      <td>Poison</td>\n",
       "      <td>405</td>\n",
       "      <td>60</td>\n",
       "      <td>62</td>\n",
       "      <td>63</td>\n",
       "      <td>80</td>\n",
       "      <td>80</td>\n",
       "      <td>60</td>\n",
       "      <td>19.724770</td>\n",
       "    </tr>\n",
       "    <tr>\n",
       "      <th>4</th>\n",
       "      <td>Grass</td>\n",
       "      <td>525</td>\n",
       "      <td>80</td>\n",
       "      <td>82</td>\n",
       "      <td>83</td>\n",
       "      <td>100</td>\n",
       "      <td>100</td>\n",
       "      <td>80</td>\n",
       "      <td>24.005888</td>\n",
       "    </tr>\n",
       "  </tbody>\n",
       "</table>\n",
       "</div>"
      ],
      "text/plain": [
       "     Type  Total  HP  Attack  Defense  Sp.Atk  Sp.Def  Speed  Speed_BOX\n",
       "0   Grass    318  45      49       49      65      65     45  16.160251\n",
       "1  Poison    318  45      49       49      65      65     45  16.160251\n",
       "2   Grass    405  60      62       63      80      80     60  19.724770\n",
       "3  Poison    405  60      62       63      80      80     60  19.724770\n",
       "4   Grass    525  80      82       83     100     100     80  24.005888"
      ]
     },
     "execution_count": 2,
     "metadata": {},
     "output_type": "execute_result"
    }
   ],
   "source": [
    "df = pd.read_csv('datos/pokePd_normalizado.csv', index_col = 0)\n",
    "df.head()"
   ]
  },
  {
   "attachments": {},
   "cell_type": "markdown",
   "metadata": {},
   "source": [
    "En vuestro dataset habréis identificado unas variables predictoras y una variable respuesta. Los objetivos del pair programming de hoy son:"
   ]
  },
  {
   "attachments": {},
   "cell_type": "markdown",
   "metadata": {},
   "source": [
    "1. Sobre las variables predictoras, en este caso deberéis estandarizar estas variables. De nuevo, usad el método que prefiráis."
   ]
  },
  {
   "cell_type": "code",
   "execution_count": 3,
   "metadata": {},
   "outputs": [],
   "source": [
    "# seleccionamos las variables numéricas de nuestro dataset\n",
    "\n",
    "numericas = df.select_dtypes(include= np.number)"
   ]
  },
  {
   "cell_type": "code",
   "execution_count": 4,
   "metadata": {},
   "outputs": [],
   "source": [
    "# eliminamos las columnas de la variable respuesta\n",
    "\n",
    "numericas.drop(['Speed', 'Speed_BOX'], axis=1, inplace=True)"
   ]
  },
  {
   "cell_type": "code",
   "execution_count": 5,
   "metadata": {},
   "outputs": [
    {
     "data": {
      "text/html": [
       "<div>\n",
       "<style scoped>\n",
       "    .dataframe tbody tr th:only-of-type {\n",
       "        vertical-align: middle;\n",
       "    }\n",
       "\n",
       "    .dataframe tbody tr th {\n",
       "        vertical-align: top;\n",
       "    }\n",
       "\n",
       "    .dataframe thead th {\n",
       "        text-align: right;\n",
       "    }\n",
       "</style>\n",
       "<table border=\"1\" class=\"dataframe\">\n",
       "  <thead>\n",
       "    <tr style=\"text-align: right;\">\n",
       "      <th></th>\n",
       "      <th>Total</th>\n",
       "      <th>HP</th>\n",
       "      <th>Attack</th>\n",
       "      <th>Defense</th>\n",
       "      <th>Sp.Atk</th>\n",
       "      <th>Sp.Def</th>\n",
       "    </tr>\n",
       "  </thead>\n",
       "  <tbody>\n",
       "    <tr>\n",
       "      <th>0</th>\n",
       "      <td>318</td>\n",
       "      <td>45</td>\n",
       "      <td>49</td>\n",
       "      <td>49</td>\n",
       "      <td>65</td>\n",
       "      <td>65</td>\n",
       "    </tr>\n",
       "    <tr>\n",
       "      <th>1</th>\n",
       "      <td>318</td>\n",
       "      <td>45</td>\n",
       "      <td>49</td>\n",
       "      <td>49</td>\n",
       "      <td>65</td>\n",
       "      <td>65</td>\n",
       "    </tr>\n",
       "    <tr>\n",
       "      <th>2</th>\n",
       "      <td>405</td>\n",
       "      <td>60</td>\n",
       "      <td>62</td>\n",
       "      <td>63</td>\n",
       "      <td>80</td>\n",
       "      <td>80</td>\n",
       "    </tr>\n",
       "    <tr>\n",
       "      <th>3</th>\n",
       "      <td>405</td>\n",
       "      <td>60</td>\n",
       "      <td>62</td>\n",
       "      <td>63</td>\n",
       "      <td>80</td>\n",
       "      <td>80</td>\n",
       "    </tr>\n",
       "    <tr>\n",
       "      <th>4</th>\n",
       "      <td>525</td>\n",
       "      <td>80</td>\n",
       "      <td>82</td>\n",
       "      <td>83</td>\n",
       "      <td>100</td>\n",
       "      <td>100</td>\n",
       "    </tr>\n",
       "  </tbody>\n",
       "</table>\n",
       "</div>"
      ],
      "text/plain": [
       "   Total  HP  Attack  Defense  Sp.Atk  Sp.Def\n",
       "0    318  45      49       49      65      65\n",
       "1    318  45      49       49      65      65\n",
       "2    405  60      62       63      80      80\n",
       "3    405  60      62       63      80      80\n",
       "4    525  80      82       83     100     100"
      ]
     },
     "execution_count": 5,
     "metadata": {},
     "output_type": "execute_result"
    }
   ],
   "source": [
    "numericas.head()"
   ]
  },
  {
   "cell_type": "code",
   "execution_count": 6,
   "metadata": {},
   "outputs": [],
   "source": [
    "# construimos el modelo de escalador\n",
    "robust = RobustScaler()"
   ]
  },
  {
   "cell_type": "code",
   "execution_count": 7,
   "metadata": {},
   "outputs": [
    {
     "data": {
      "text/plain": [
       "RobustScaler()"
      ]
     },
     "execution_count": 7,
     "metadata": {},
     "output_type": "execute_result"
    }
   ],
   "source": [
    "# ajustamos el modelo utilizando nuestro set de datos\n",
    "robust.fit(numericas)"
   ]
  },
  {
   "cell_type": "code",
   "execution_count": 8,
   "metadata": {},
   "outputs": [],
   "source": [
    "# transformamos los datos\n",
    "X_robust = robust.transform(numericas)"
   ]
  },
  {
   "cell_type": "code",
   "execution_count": 9,
   "metadata": {},
   "outputs": [
    {
     "data": {
      "text/html": [
       "<div>\n",
       "<style scoped>\n",
       "    .dataframe tbody tr th:only-of-type {\n",
       "        vertical-align: middle;\n",
       "    }\n",
       "\n",
       "    .dataframe tbody tr th {\n",
       "        vertical-align: top;\n",
       "    }\n",
       "\n",
       "    .dataframe thead th {\n",
       "        text-align: right;\n",
       "    }\n",
       "</style>\n",
       "<table border=\"1\" class=\"dataframe\">\n",
       "  <thead>\n",
       "    <tr style=\"text-align: right;\">\n",
       "      <th></th>\n",
       "      <th>Total</th>\n",
       "      <th>HP</th>\n",
       "      <th>Attack</th>\n",
       "      <th>Defense</th>\n",
       "      <th>Sp.Atk</th>\n",
       "      <th>Sp.Def</th>\n",
       "    </tr>\n",
       "  </thead>\n",
       "  <tbody>\n",
       "    <tr>\n",
       "      <th>0</th>\n",
       "      <td>-0.819945</td>\n",
       "      <td>-0.75</td>\n",
       "      <td>-0.738095</td>\n",
       "      <td>-0.5</td>\n",
       "      <td>-0.088889</td>\n",
       "      <td>-0.131579</td>\n",
       "    </tr>\n",
       "    <tr>\n",
       "      <th>1</th>\n",
       "      <td>-0.819945</td>\n",
       "      <td>-0.75</td>\n",
       "      <td>-0.738095</td>\n",
       "      <td>-0.5</td>\n",
       "      <td>-0.088889</td>\n",
       "      <td>-0.131579</td>\n",
       "    </tr>\n",
       "  </tbody>\n",
       "</table>\n",
       "</div>"
      ],
      "text/plain": [
       "      Total    HP    Attack  Defense    Sp.Atk    Sp.Def\n",
       "0 -0.819945 -0.75 -0.738095     -0.5 -0.088889 -0.131579\n",
       "1 -0.819945 -0.75 -0.738095     -0.5 -0.088889 -0.131579"
      ]
     },
     "execution_count": 9,
     "metadata": {},
     "output_type": "execute_result"
    }
   ],
   "source": [
    "numericas_robust = pd.DataFrame(X_robust, columns = numericas.columns)\n",
    "\n",
    "numericas_robust.head(2)"
   ]
  },
  {
   "cell_type": "code",
   "execution_count": 10,
   "metadata": {},
   "outputs": [
    {
     "name": "stdout",
     "output_type": "stream",
     "text": [
      "La media de la columna Total es:  -0.10963568147550819\n",
      "La desviación estándar de la columna Total es: 0.6785829398087171\n",
      "-------------------------------------------------------------\n",
      "La media de la columna HP es:  0.04774525316455696\n",
      "La desviación estándar de la columna HP es: 0.8195635254247908\n",
      "-------------------------------------------------------------\n",
      "La media de la columna Attack es:  0.04172694394213386\n",
      "La desviación estándar de la columna Attack es: 0.7789677426684343\n",
      "-------------------------------------------------------------\n",
      "La media de la columna Defense es:  0.15742917420132604\n",
      "La desviación estándar de la columna Defense es: 0.7596006136597215\n",
      "-------------------------------------------------------------\n",
      "La media de la columna Sp.Atk es:  0.12033755274261608\n",
      "La desviación estándar de la columna Sp.Atk es: 0.7341318178203832\n",
      "-------------------------------------------------------------\n",
      "La media de la columna Sp.Def es:  0.09125582944703549\n",
      "La desviación estándar de la columna Sp.Def es: 0.7415771359165008\n",
      "-------------------------------------------------------------\n"
     ]
    }
   ],
   "source": [
    "# mediante el for loop  iteramos por todas las columnas para que nos devuelva la media y la desviación típica\n",
    "# vemos que los valores de la media son m´ças cercanos a 0 y los de la std a 1\n",
    "\n",
    "for columna in numericas_robust.columns:\n",
    "    \n",
    "    print(f'La media de la columna {columna} es:  {numericas_robust[columna].mean()}')\n",
    "\n",
    "    print(f'La desviación estándar de la columna {columna} es: {numericas_robust[columna].std()}')\n",
    "\n",
    "    print(\"-------------------------------------------------------------\")"
   ]
  },
  {
   "cell_type": "code",
   "execution_count": 11,
   "metadata": {},
   "outputs": [
    {
     "data": {
      "text/html": [
       "<div>\n",
       "<style scoped>\n",
       "    .dataframe tbody tr th:only-of-type {\n",
       "        vertical-align: middle;\n",
       "    }\n",
       "\n",
       "    .dataframe tbody tr th {\n",
       "        vertical-align: top;\n",
       "    }\n",
       "\n",
       "    .dataframe thead th {\n",
       "        text-align: right;\n",
       "    }\n",
       "</style>\n",
       "<table border=\"1\" class=\"dataframe\">\n",
       "  <thead>\n",
       "    <tr style=\"text-align: right;\">\n",
       "      <th></th>\n",
       "      <th>count</th>\n",
       "      <th>mean</th>\n",
       "      <th>std</th>\n",
       "      <th>min</th>\n",
       "      <th>25%</th>\n",
       "      <th>50%</th>\n",
       "      <th>75%</th>\n",
       "      <th>max</th>\n",
       "    </tr>\n",
       "  </thead>\n",
       "  <tbody>\n",
       "    <tr>\n",
       "      <th>Total</th>\n",
       "      <td>1580.0</td>\n",
       "      <td>-0.109636</td>\n",
       "      <td>0.678583</td>\n",
       "      <td>-1.612188</td>\n",
       "      <td>-0.700831</td>\n",
       "      <td>0.0</td>\n",
       "      <td>0.299169</td>\n",
       "      <td>3.650970</td>\n",
       "    </tr>\n",
       "    <tr>\n",
       "      <th>HP</th>\n",
       "      <td>1580.0</td>\n",
       "      <td>0.047745</td>\n",
       "      <td>0.819564</td>\n",
       "      <td>-2.125000</td>\n",
       "      <td>-0.500000</td>\n",
       "      <td>0.0</td>\n",
       "      <td>0.500000</td>\n",
       "      <td>5.812500</td>\n",
       "    </tr>\n",
       "    <tr>\n",
       "      <th>Attack</th>\n",
       "      <td>1580.0</td>\n",
       "      <td>0.041727</td>\n",
       "      <td>0.778968</td>\n",
       "      <td>-1.785714</td>\n",
       "      <td>-0.523810</td>\n",
       "      <td>0.0</td>\n",
       "      <td>0.476190</td>\n",
       "      <td>2.619048</td>\n",
       "    </tr>\n",
       "    <tr>\n",
       "      <th>Defense</th>\n",
       "      <td>1580.0</td>\n",
       "      <td>0.157429</td>\n",
       "      <td>0.759601</td>\n",
       "      <td>-1.547619</td>\n",
       "      <td>-0.404762</td>\n",
       "      <td>0.0</td>\n",
       "      <td>0.595238</td>\n",
       "      <td>4.285714</td>\n",
       "    </tr>\n",
       "    <tr>\n",
       "      <th>Sp.Atk</th>\n",
       "      <td>1580.0</td>\n",
       "      <td>0.120338</td>\n",
       "      <td>0.734132</td>\n",
       "      <td>-1.311111</td>\n",
       "      <td>-0.422222</td>\n",
       "      <td>0.0</td>\n",
       "      <td>0.577778</td>\n",
       "      <td>2.777778</td>\n",
       "    </tr>\n",
       "    <tr>\n",
       "      <th>Sp.Def</th>\n",
       "      <td>1580.0</td>\n",
       "      <td>0.091256</td>\n",
       "      <td>0.741577</td>\n",
       "      <td>-1.315789</td>\n",
       "      <td>-0.473684</td>\n",
       "      <td>0.0</td>\n",
       "      <td>0.526316</td>\n",
       "      <td>4.736842</td>\n",
       "    </tr>\n",
       "  </tbody>\n",
       "</table>\n",
       "</div>"
      ],
      "text/plain": [
       "          count      mean       std       min       25%  50%       75%  \\\n",
       "Total    1580.0 -0.109636  0.678583 -1.612188 -0.700831  0.0  0.299169   \n",
       "HP       1580.0  0.047745  0.819564 -2.125000 -0.500000  0.0  0.500000   \n",
       "Attack   1580.0  0.041727  0.778968 -1.785714 -0.523810  0.0  0.476190   \n",
       "Defense  1580.0  0.157429  0.759601 -1.547619 -0.404762  0.0  0.595238   \n",
       "Sp.Atk   1580.0  0.120338  0.734132 -1.311111 -0.422222  0.0  0.577778   \n",
       "Sp.Def   1580.0  0.091256  0.741577 -1.315789 -0.473684  0.0  0.526316   \n",
       "\n",
       "              max  \n",
       "Total    3.650970  \n",
       "HP       5.812500  \n",
       "Attack   2.619048  \n",
       "Defense  4.285714  \n",
       "Sp.Atk   2.777778  \n",
       "Sp.Def   4.736842  "
      ]
     },
     "execution_count": 11,
     "metadata": {},
     "output_type": "execute_result"
    }
   ],
   "source": [
    "# con el describe lo vemos de manera más visual\n",
    "\n",
    "numericas_robust.describe().T"
   ]
  },
  {
   "cell_type": "code",
   "execution_count": 12,
   "metadata": {},
   "outputs": [
    {
     "data": {
      "image/png": "[encoded data removed]",
      "text/plain": [
       "<Figure size 2160x720 with 6 Axes>"
      ]
     },
     "metadata": {
      "needs_background": "light"
     },
     "output_type": "display_data"
    }
   ],
   "source": [
    "fig, axes = plt.subplots(nrows = 2, ncols = 3, figsize = (30, 10))\n",
    "\n",
    "columnas_robust = numericas_robust.columns\n",
    "axes = axes.flat\n",
    "for i, colum in enumerate(columnas_robust): \n",
    "    sns.histplot(data = numericas_robust,\n",
    "                 x = colum,\n",
    "                 kde = True,\n",
    "                 line_kws = {\"linewidth\": 2},\n",
    "                 alpha = 0.2,\n",
    "                 ax = axes[i])\n",
    "    axes[i].set_title(colum, fontsize = 15, fontweight = \"bold\")\n",
    "    axes[i].tick_params(labelsize = 20)\n",
    "    axes[i].set_xlabel(\"\")\n",
    "    fig.tight_layout()\n",
    "    \n",
    "    # fig.delaxes(axes[-1])\n",
    "    # fig.delaxes(axes[-2])\n",
    "    # fig.delaxes(axes[-3])"
   ]
  },
  {
   "attachments": {},
   "cell_type": "markdown",
   "metadata": {},
   "source": [
    "Hemos decidido aplicar esta estandarización porque tenemos outliers en nuestras variables que no se han tratado previamente. Con el método RobustScaler transformamos nuestras variables restando la mediana y dividiéndola por el rango intercuartílico. El rango de cada variable después de aplicar el método será mayor que el del MinMaxScaler.\n",
    "Con el StandardScaler tambíen conseguimos la estnadarización de todas nuestras variables predictoras pero en este caso no se tienen en cuenta los valores atípicos."
   ]
  },
  {
   "cell_type": "code",
   "execution_count": 13,
   "metadata": {},
   "outputs": [
    {
     "data": {
      "text/html": [
       "<div>\n",
       "<style scoped>\n",
       "    .dataframe tbody tr th:only-of-type {\n",
       "        vertical-align: middle;\n",
       "    }\n",
       "\n",
       "    .dataframe tbody tr th {\n",
       "        vertical-align: top;\n",
       "    }\n",
       "\n",
       "    .dataframe thead th {\n",
       "        text-align: right;\n",
       "    }\n",
       "</style>\n",
       "<table border=\"1\" class=\"dataframe\">\n",
       "  <thead>\n",
       "    <tr style=\"text-align: right;\">\n",
       "      <th></th>\n",
       "      <th>Total</th>\n",
       "      <th>HP</th>\n",
       "      <th>Attack</th>\n",
       "      <th>Defense</th>\n",
       "      <th>Sp.Atk</th>\n",
       "      <th>Sp.Def</th>\n",
       "    </tr>\n",
       "  </thead>\n",
       "  <tbody>\n",
       "    <tr>\n",
       "      <th>0</th>\n",
       "      <td>-0.819945</td>\n",
       "      <td>-0.75000</td>\n",
       "      <td>-0.738095</td>\n",
       "      <td>-0.500000</td>\n",
       "      <td>-0.088889</td>\n",
       "      <td>-0.131579</td>\n",
       "    </tr>\n",
       "    <tr>\n",
       "      <th>1</th>\n",
       "      <td>-0.819945</td>\n",
       "      <td>-0.75000</td>\n",
       "      <td>-0.738095</td>\n",
       "      <td>-0.500000</td>\n",
       "      <td>-0.088889</td>\n",
       "      <td>-0.131579</td>\n",
       "    </tr>\n",
       "    <tr>\n",
       "      <th>2</th>\n",
       "      <td>-0.337950</td>\n",
       "      <td>-0.28125</td>\n",
       "      <td>-0.428571</td>\n",
       "      <td>-0.166667</td>\n",
       "      <td>0.244444</td>\n",
       "      <td>0.263158</td>\n",
       "    </tr>\n",
       "    <tr>\n",
       "      <th>3</th>\n",
       "      <td>-0.337950</td>\n",
       "      <td>-0.28125</td>\n",
       "      <td>-0.428571</td>\n",
       "      <td>-0.166667</td>\n",
       "      <td>0.244444</td>\n",
       "      <td>0.263158</td>\n",
       "    </tr>\n",
       "    <tr>\n",
       "      <th>4</th>\n",
       "      <td>0.326870</td>\n",
       "      <td>0.34375</td>\n",
       "      <td>0.047619</td>\n",
       "      <td>0.309524</td>\n",
       "      <td>0.688889</td>\n",
       "      <td>0.789474</td>\n",
       "    </tr>\n",
       "  </tbody>\n",
       "</table>\n",
       "</div>"
      ],
      "text/plain": [
       "      Total       HP    Attack   Defense    Sp.Atk    Sp.Def\n",
       "0 -0.819945 -0.75000 -0.738095 -0.500000 -0.088889 -0.131579\n",
       "1 -0.819945 -0.75000 -0.738095 -0.500000 -0.088889 -0.131579\n",
       "2 -0.337950 -0.28125 -0.428571 -0.166667  0.244444  0.263158\n",
       "3 -0.337950 -0.28125 -0.428571 -0.166667  0.244444  0.263158\n",
       "4  0.326870  0.34375  0.047619  0.309524  0.688889  0.789474"
      ]
     },
     "execution_count": 13,
     "metadata": {},
     "output_type": "execute_result"
    }
   ],
   "source": [
    "numericas_robust.head()"
   ]
  },
  {
   "cell_type": "code",
   "execution_count": 14,
   "metadata": {},
   "outputs": [],
   "source": [
    "df[numericas_robust.columns] = numericas_robust"
   ]
  },
  {
   "cell_type": "code",
   "execution_count": 15,
   "metadata": {},
   "outputs": [],
   "source": [
    "df.drop('Speed', axis=1, inplace=True)"
   ]
  },
  {
   "cell_type": "code",
   "execution_count": 16,
   "metadata": {},
   "outputs": [
    {
     "data": {
      "text/html": [
       "<div>\n",
       "<style scoped>\n",
       "    .dataframe tbody tr th:only-of-type {\n",
       "        vertical-align: middle;\n",
       "    }\n",
       "\n",
       "    .dataframe tbody tr th {\n",
       "        vertical-align: top;\n",
       "    }\n",
       "\n",
       "    .dataframe thead th {\n",
       "        text-align: right;\n",
       "    }\n",
       "</style>\n",
       "<table border=\"1\" class=\"dataframe\">\n",
       "  <thead>\n",
       "    <tr style=\"text-align: right;\">\n",
       "      <th></th>\n",
       "      <th>Type</th>\n",
       "      <th>Total</th>\n",
       "      <th>HP</th>\n",
       "      <th>Attack</th>\n",
       "      <th>Defense</th>\n",
       "      <th>Sp.Atk</th>\n",
       "      <th>Sp.Def</th>\n",
       "      <th>Speed_BOX</th>\n",
       "    </tr>\n",
       "  </thead>\n",
       "  <tbody>\n",
       "    <tr>\n",
       "      <th>0</th>\n",
       "      <td>Grass</td>\n",
       "      <td>-0.819945</td>\n",
       "      <td>-0.75</td>\n",
       "      <td>-0.738095</td>\n",
       "      <td>-0.5</td>\n",
       "      <td>-0.088889</td>\n",
       "      <td>-0.131579</td>\n",
       "      <td>16.160251</td>\n",
       "    </tr>\n",
       "    <tr>\n",
       "      <th>1</th>\n",
       "      <td>Poison</td>\n",
       "      <td>-0.819945</td>\n",
       "      <td>-0.75</td>\n",
       "      <td>-0.738095</td>\n",
       "      <td>-0.5</td>\n",
       "      <td>-0.088889</td>\n",
       "      <td>-0.131579</td>\n",
       "      <td>16.160251</td>\n",
       "    </tr>\n",
       "  </tbody>\n",
       "</table>\n",
       "</div>"
      ],
      "text/plain": [
       "     Type     Total    HP    Attack  Defense    Sp.Atk    Sp.Def  Speed_BOX\n",
       "0   Grass -0.819945 -0.75 -0.738095     -0.5 -0.088889 -0.131579  16.160251\n",
       "1  Poison -0.819945 -0.75 -0.738095     -0.5 -0.088889 -0.131579  16.160251"
      ]
     },
     "execution_count": 16,
     "metadata": {},
     "output_type": "execute_result"
    }
   ],
   "source": [
    "df.head(2)"
   ]
  },
  {
   "attachments": {},
   "cell_type": "markdown",
   "metadata": {},
   "source": [
    "2. Guardar en un csv el nuevo dataframe que habéis creado para seguir usándolo en los siguientes pair programmings"
   ]
  },
  {
   "cell_type": "code",
   "execution_count": 17,
   "metadata": {},
   "outputs": [],
   "source": [
    "df.to_csv('datos/pokePd_estandarizado.csv')"
   ]
  }
 ],
 "metadata": {
  "kernelspec": {
   "display_name": "Python 3",
   "language": "python",
   "name": "python3"
  },
  "language_info": {
   "codemirror_mode": {
    "name": "ipython",
    "version": 3
   },
   "file_extension": ".py",
   "mimetype": "text/x-python",
   "name": "python",
   "nbconvert_exporter": "python",
   "pygments_lexer": "ipython3",
   "version": "3.9.7"
  },
  "orig_nbformat": 4
 },
 "nbformat": 4,
 "nbformat_minor": 2
}
