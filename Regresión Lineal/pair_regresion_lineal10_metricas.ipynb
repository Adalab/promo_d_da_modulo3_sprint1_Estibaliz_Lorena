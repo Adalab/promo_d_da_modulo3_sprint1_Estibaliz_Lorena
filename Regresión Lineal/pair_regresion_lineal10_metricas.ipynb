{
 "cells": [
  {
   "attachments": {},
   "cell_type": "markdown",
   "metadata": {},
   "source": [
    "#### PAIR PROGRAMMING - REGRESIÓN LINEAL - MÉTRICAS\n"
   ]
  },
  {
   "cell_type": "code",
   "execution_count": 1,
   "metadata": {},
   "outputs": [],
   "source": [
    "# Tratamiento de datos\n",
    "# -----------------------------------------------------------------------\n",
    "import numpy as np\n",
    "import pandas as pd\n",
    "\n",
    "# Gráficos\n",
    "# ------------------------------------------------------------------------\n",
    "import matplotlib.pyplot as plt\n",
    "import seaborn as sns\n",
    "\n",
    "\n",
    "#  Modelado y evaluación\n",
    "# -----------------------------------------------------------------------------\n",
    "from sklearn.model_selection import train_test_split\n",
    "from sklearn.linear_model import LinearRegression\n",
    "from sklearn.metrics import r2_score, mean_squared_error, mean_absolute_error"
   ]
  },
  {
   "attachments": {},
   "cell_type": "markdown",
   "metadata": {},
   "source": [
    "En el pair programming anterior creastéis vuestro primer modelo de machine learning usando la regresion Lineal. Es el momento, que con vuestros datos evaluéis si es bueno haciendo predicciones. Los objetivo de este pairprogramming son:\n",
    "\n",
    "- Calculéis las métricas para vuestro modelo\n",
    "- Discutid los resultados de las métricas y extraed conclusiones\n",
    "- Guardad los resultados de las métricas en un csv para usarlo más adelante."
   ]
  },
  {
   "cell_type": "code",
   "execution_count": 2,
   "metadata": {},
   "outputs": [
    {
     "data": {
      "text/html": [
       "<div>\n",
       "<style scoped>\n",
       "    .dataframe tbody tr th:only-of-type {\n",
       "        vertical-align: middle;\n",
       "    }\n",
       "\n",
       "    .dataframe tbody tr th {\n",
       "        vertical-align: top;\n",
       "    }\n",
       "\n",
       "    .dataframe thead th {\n",
       "        text-align: right;\n",
       "    }\n",
       "</style>\n",
       "<table border=\"1\" class=\"dataframe\">\n",
       "  <thead>\n",
       "    <tr style=\"text-align: right;\">\n",
       "      <th></th>\n",
       "      <th>Type</th>\n",
       "      <th>Total</th>\n",
       "      <th>HP</th>\n",
       "      <th>Attack</th>\n",
       "      <th>Defense</th>\n",
       "      <th>Sp.Atk</th>\n",
       "      <th>Sp.Def</th>\n",
       "      <th>Speed_BOX</th>\n",
       "      <th>Type_Bug</th>\n",
       "      <th>Type_Dark</th>\n",
       "      <th>...</th>\n",
       "      <th>Type_Ghost</th>\n",
       "      <th>Type_Grass</th>\n",
       "      <th>Type_Ground</th>\n",
       "      <th>Type_Ice</th>\n",
       "      <th>Type_Normal</th>\n",
       "      <th>Type_Poison</th>\n",
       "      <th>Type_Psychic</th>\n",
       "      <th>Type_Rock</th>\n",
       "      <th>Type_Steel</th>\n",
       "      <th>Type_Water</th>\n",
       "    </tr>\n",
       "  </thead>\n",
       "  <tbody>\n",
       "    <tr>\n",
       "      <th>0</th>\n",
       "      <td>Grass</td>\n",
       "      <td>-0.819945</td>\n",
       "      <td>-0.75000</td>\n",
       "      <td>-0.738095</td>\n",
       "      <td>-0.500000</td>\n",
       "      <td>-0.088889</td>\n",
       "      <td>-0.131579</td>\n",
       "      <td>16.160251</td>\n",
       "      <td>0</td>\n",
       "      <td>0</td>\n",
       "      <td>...</td>\n",
       "      <td>0</td>\n",
       "      <td>1</td>\n",
       "      <td>0</td>\n",
       "      <td>0</td>\n",
       "      <td>0</td>\n",
       "      <td>0</td>\n",
       "      <td>0</td>\n",
       "      <td>0</td>\n",
       "      <td>0</td>\n",
       "      <td>0</td>\n",
       "    </tr>\n",
       "    <tr>\n",
       "      <th>1</th>\n",
       "      <td>Poison</td>\n",
       "      <td>-0.819945</td>\n",
       "      <td>-0.75000</td>\n",
       "      <td>-0.738095</td>\n",
       "      <td>-0.500000</td>\n",
       "      <td>-0.088889</td>\n",
       "      <td>-0.131579</td>\n",
       "      <td>16.160251</td>\n",
       "      <td>0</td>\n",
       "      <td>0</td>\n",
       "      <td>...</td>\n",
       "      <td>0</td>\n",
       "      <td>0</td>\n",
       "      <td>0</td>\n",
       "      <td>0</td>\n",
       "      <td>0</td>\n",
       "      <td>1</td>\n",
       "      <td>0</td>\n",
       "      <td>0</td>\n",
       "      <td>0</td>\n",
       "      <td>0</td>\n",
       "    </tr>\n",
       "    <tr>\n",
       "      <th>2</th>\n",
       "      <td>Grass</td>\n",
       "      <td>-0.337950</td>\n",
       "      <td>-0.28125</td>\n",
       "      <td>-0.428571</td>\n",
       "      <td>-0.166667</td>\n",
       "      <td>0.244444</td>\n",
       "      <td>0.263158</td>\n",
       "      <td>19.724770</td>\n",
       "      <td>0</td>\n",
       "      <td>0</td>\n",
       "      <td>...</td>\n",
       "      <td>0</td>\n",
       "      <td>1</td>\n",
       "      <td>0</td>\n",
       "      <td>0</td>\n",
       "      <td>0</td>\n",
       "      <td>0</td>\n",
       "      <td>0</td>\n",
       "      <td>0</td>\n",
       "      <td>0</td>\n",
       "      <td>0</td>\n",
       "    </tr>\n",
       "    <tr>\n",
       "      <th>3</th>\n",
       "      <td>Poison</td>\n",
       "      <td>-0.337950</td>\n",
       "      <td>-0.28125</td>\n",
       "      <td>-0.428571</td>\n",
       "      <td>-0.166667</td>\n",
       "      <td>0.244444</td>\n",
       "      <td>0.263158</td>\n",
       "      <td>19.724770</td>\n",
       "      <td>0</td>\n",
       "      <td>0</td>\n",
       "      <td>...</td>\n",
       "      <td>0</td>\n",
       "      <td>0</td>\n",
       "      <td>0</td>\n",
       "      <td>0</td>\n",
       "      <td>0</td>\n",
       "      <td>1</td>\n",
       "      <td>0</td>\n",
       "      <td>0</td>\n",
       "      <td>0</td>\n",
       "      <td>0</td>\n",
       "    </tr>\n",
       "    <tr>\n",
       "      <th>4</th>\n",
       "      <td>Grass</td>\n",
       "      <td>0.326870</td>\n",
       "      <td>0.34375</td>\n",
       "      <td>0.047619</td>\n",
       "      <td>0.309524</td>\n",
       "      <td>0.688889</td>\n",
       "      <td>0.789474</td>\n",
       "      <td>24.005888</td>\n",
       "      <td>0</td>\n",
       "      <td>0</td>\n",
       "      <td>...</td>\n",
       "      <td>0</td>\n",
       "      <td>1</td>\n",
       "      <td>0</td>\n",
       "      <td>0</td>\n",
       "      <td>0</td>\n",
       "      <td>0</td>\n",
       "      <td>0</td>\n",
       "      <td>0</td>\n",
       "      <td>0</td>\n",
       "      <td>0</td>\n",
       "    </tr>\n",
       "  </tbody>\n",
       "</table>\n",
       "<p>5 rows × 26 columns</p>\n",
       "</div>"
      ],
      "text/plain": [
       "     Type     Total       HP    Attack   Defense    Sp.Atk    Sp.Def  \\\n",
       "0   Grass -0.819945 -0.75000 -0.738095 -0.500000 -0.088889 -0.131579   \n",
       "1  Poison -0.819945 -0.75000 -0.738095 -0.500000 -0.088889 -0.131579   \n",
       "2   Grass -0.337950 -0.28125 -0.428571 -0.166667  0.244444  0.263158   \n",
       "3  Poison -0.337950 -0.28125 -0.428571 -0.166667  0.244444  0.263158   \n",
       "4   Grass  0.326870  0.34375  0.047619  0.309524  0.688889  0.789474   \n",
       "\n",
       "   Speed_BOX  Type_Bug  Type_Dark  ...  Type_Ghost  Type_Grass  Type_Ground  \\\n",
       "0  16.160251         0          0  ...           0           1            0   \n",
       "1  16.160251         0          0  ...           0           0            0   \n",
       "2  19.724770         0          0  ...           0           1            0   \n",
       "3  19.724770         0          0  ...           0           0            0   \n",
       "4  24.005888         0          0  ...           0           1            0   \n",
       "\n",
       "   Type_Ice  Type_Normal  Type_Poison  Type_Psychic  Type_Rock  Type_Steel  \\\n",
       "0         0            0            0             0          0           0   \n",
       "1         0            0            1             0          0           0   \n",
       "2         0            0            0             0          0           0   \n",
       "3         0            0            1             0          0           0   \n",
       "4         0            0            0             0          0           0   \n",
       "\n",
       "   Type_Water  \n",
       "0           0  \n",
       "1           0  \n",
       "2           0  \n",
       "3           0  \n",
       "4           0  \n",
       "\n",
       "[5 rows x 26 columns]"
      ]
     },
     "execution_count": 2,
     "metadata": {},
     "output_type": "execute_result"
    }
   ],
   "source": [
    "df = pd.read_csv('../datos/pokePdcodificado.csv', index_col = 0)\n",
    "df.head()"
   ]
  },
  {
   "cell_type": "code",
   "execution_count": 3,
   "metadata": {},
   "outputs": [],
   "source": [
    "#Dividimos los datos del df en X (variables predictoras) e y(Vrespuesta)\n",
    "\n",
    "X = df.drop(['Type', 'Speed_BOX'], axis = 1)\n",
    "\n",
    "y = df['Speed_BOX']"
   ]
  },
  {
   "cell_type": "code",
   "execution_count": 4,
   "metadata": {},
   "outputs": [
    {
     "data": {
      "text/html": [
       "<div>\n",
       "<style scoped>\n",
       "    .dataframe tbody tr th:only-of-type {\n",
       "        vertical-align: middle;\n",
       "    }\n",
       "\n",
       "    .dataframe tbody tr th {\n",
       "        vertical-align: top;\n",
       "    }\n",
       "\n",
       "    .dataframe thead th {\n",
       "        text-align: right;\n",
       "    }\n",
       "</style>\n",
       "<table border=\"1\" class=\"dataframe\">\n",
       "  <thead>\n",
       "    <tr style=\"text-align: right;\">\n",
       "      <th></th>\n",
       "      <th>Total</th>\n",
       "      <th>HP</th>\n",
       "      <th>Attack</th>\n",
       "      <th>Defense</th>\n",
       "      <th>Sp.Atk</th>\n",
       "      <th>Sp.Def</th>\n",
       "      <th>Type_Bug</th>\n",
       "      <th>Type_Dark</th>\n",
       "      <th>Type_Dragon</th>\n",
       "      <th>Type_Electric</th>\n",
       "      <th>...</th>\n",
       "      <th>Type_Ghost</th>\n",
       "      <th>Type_Grass</th>\n",
       "      <th>Type_Ground</th>\n",
       "      <th>Type_Ice</th>\n",
       "      <th>Type_Normal</th>\n",
       "      <th>Type_Poison</th>\n",
       "      <th>Type_Psychic</th>\n",
       "      <th>Type_Rock</th>\n",
       "      <th>Type_Steel</th>\n",
       "      <th>Type_Water</th>\n",
       "    </tr>\n",
       "  </thead>\n",
       "  <tbody>\n",
       "    <tr>\n",
       "      <th>0</th>\n",
       "      <td>-0.819945</td>\n",
       "      <td>-0.75000</td>\n",
       "      <td>-0.738095</td>\n",
       "      <td>-0.500000</td>\n",
       "      <td>-0.088889</td>\n",
       "      <td>-0.131579</td>\n",
       "      <td>0</td>\n",
       "      <td>0</td>\n",
       "      <td>0</td>\n",
       "      <td>0</td>\n",
       "      <td>...</td>\n",
       "      <td>0</td>\n",
       "      <td>1</td>\n",
       "      <td>0</td>\n",
       "      <td>0</td>\n",
       "      <td>0</td>\n",
       "      <td>0</td>\n",
       "      <td>0</td>\n",
       "      <td>0</td>\n",
       "      <td>0</td>\n",
       "      <td>0</td>\n",
       "    </tr>\n",
       "    <tr>\n",
       "      <th>1</th>\n",
       "      <td>-0.819945</td>\n",
       "      <td>-0.75000</td>\n",
       "      <td>-0.738095</td>\n",
       "      <td>-0.500000</td>\n",
       "      <td>-0.088889</td>\n",
       "      <td>-0.131579</td>\n",
       "      <td>0</td>\n",
       "      <td>0</td>\n",
       "      <td>0</td>\n",
       "      <td>0</td>\n",
       "      <td>...</td>\n",
       "      <td>0</td>\n",
       "      <td>0</td>\n",
       "      <td>0</td>\n",
       "      <td>0</td>\n",
       "      <td>0</td>\n",
       "      <td>1</td>\n",
       "      <td>0</td>\n",
       "      <td>0</td>\n",
       "      <td>0</td>\n",
       "      <td>0</td>\n",
       "    </tr>\n",
       "    <tr>\n",
       "      <th>2</th>\n",
       "      <td>-0.337950</td>\n",
       "      <td>-0.28125</td>\n",
       "      <td>-0.428571</td>\n",
       "      <td>-0.166667</td>\n",
       "      <td>0.244444</td>\n",
       "      <td>0.263158</td>\n",
       "      <td>0</td>\n",
       "      <td>0</td>\n",
       "      <td>0</td>\n",
       "      <td>0</td>\n",
       "      <td>...</td>\n",
       "      <td>0</td>\n",
       "      <td>1</td>\n",
       "      <td>0</td>\n",
       "      <td>0</td>\n",
       "      <td>0</td>\n",
       "      <td>0</td>\n",
       "      <td>0</td>\n",
       "      <td>0</td>\n",
       "      <td>0</td>\n",
       "      <td>0</td>\n",
       "    </tr>\n",
       "  </tbody>\n",
       "</table>\n",
       "<p>3 rows × 24 columns</p>\n",
       "</div>"
      ],
      "text/plain": [
       "      Total       HP    Attack   Defense    Sp.Atk    Sp.Def  Type_Bug  \\\n",
       "0 -0.819945 -0.75000 -0.738095 -0.500000 -0.088889 -0.131579         0   \n",
       "1 -0.819945 -0.75000 -0.738095 -0.500000 -0.088889 -0.131579         0   \n",
       "2 -0.337950 -0.28125 -0.428571 -0.166667  0.244444  0.263158         0   \n",
       "\n",
       "   Type_Dark  Type_Dragon  Type_Electric  ...  Type_Ghost  Type_Grass  \\\n",
       "0          0            0              0  ...           0           1   \n",
       "1          0            0              0  ...           0           0   \n",
       "2          0            0              0  ...           0           1   \n",
       "\n",
       "   Type_Ground  Type_Ice  Type_Normal  Type_Poison  Type_Psychic  Type_Rock  \\\n",
       "0            0         0            0            0             0          0   \n",
       "1            0         0            0            1             0          0   \n",
       "2            0         0            0            0             0          0   \n",
       "\n",
       "   Type_Steel  Type_Water  \n",
       "0           0           0  \n",
       "1           0           0  \n",
       "2           0           0  \n",
       "\n",
       "[3 rows x 24 columns]"
      ]
     },
     "execution_count": 4,
     "metadata": {},
     "output_type": "execute_result"
    }
   ],
   "source": [
    "X.head(3)"
   ]
  },
  {
   "cell_type": "code",
   "execution_count": 5,
   "metadata": {},
   "outputs": [
    {
     "data": {
      "text/plain": [
       "0    16.160251\n",
       "1    16.160251\n",
       "2    19.724770\n",
       "Name: Speed_BOX, dtype: float64"
      ]
     },
     "execution_count": 5,
     "metadata": {},
     "output_type": "execute_result"
    }
   ],
   "source": [
    "y.head(3)"
   ]
  },
  {
   "cell_type": "code",
   "execution_count": 6,
   "metadata": {},
   "outputs": [],
   "source": [
    "# Dividimos los datos de entrenamiento y de test. El tamaño de la muestra del test puede ir de 0.2 a 0.3\n",
    "\n",
    "x_train, x_test, y_train, y_test = train_test_split(X, y, test_size = 0.2, random_state = 42)"
   ]
  },
  {
   "cell_type": "code",
   "execution_count": 7,
   "metadata": {},
   "outputs": [],
   "source": [
    "# iniciamos la regresión lineal. n_jobs hace referencia al número de nucleos que usaremos de nuestro ordenador. \n",
    "# Al indicar -1 significa que los usaremos todos. \n",
    "\n",
    "lr = LinearRegression(n_jobs=-1)"
   ]
  },
  {
   "cell_type": "code",
   "execution_count": 8,
   "metadata": {},
   "outputs": [
    {
     "data": {
      "text/html": [
       "<style>#sk-container-id-1 {color: black;background-color: white;}#sk-container-id-1 pre{padding: 0;}#sk-container-id-1 div.sk-toggleable {background-color: white;}#sk-container-id-1 label.sk-toggleable__label {cursor: pointer;display: block;width: 100%;margin-bottom: 0;padding: 0.3em;box-sizing: border-box;text-align: center;}#sk-container-id-1 label.sk-toggleable__label-arrow:before {content: \"▸\";float: left;margin-right: 0.25em;color: #696969;}#sk-container-id-1 label.sk-toggleable__label-arrow:hover:before {color: black;}#sk-container-id-1 div.sk-estimator:hover label.sk-toggleable__label-arrow:before {color: black;}#sk-container-id-1 div.sk-toggleable__content {max-height: 0;max-width: 0;overflow: hidden;text-align: left;background-color: #f0f8ff;}#sk-container-id-1 div.sk-toggleable__content pre {margin: 0.2em;color: black;border-radius: 0.25em;background-color: #f0f8ff;}#sk-container-id-1 input.sk-toggleable__control:checked~div.sk-toggleable__content {max-height: 200px;max-width: 100%;overflow: auto;}#sk-container-id-1 input.sk-toggleable__control:checked~label.sk-toggleable__label-arrow:before {content: \"▾\";}#sk-container-id-1 div.sk-estimator input.sk-toggleable__control:checked~label.sk-toggleable__label {background-color: #d4ebff;}#sk-container-id-1 div.sk-label input.sk-toggleable__control:checked~label.sk-toggleable__label {background-color: #d4ebff;}#sk-container-id-1 input.sk-hidden--visually {border: 0;clip: rect(1px 1px 1px 1px);clip: rect(1px, 1px, 1px, 1px);height: 1px;margin: -1px;overflow: hidden;padding: 0;position: absolute;width: 1px;}#sk-container-id-1 div.sk-estimator {font-family: monospace;background-color: #f0f8ff;border: 1px dotted black;border-radius: 0.25em;box-sizing: border-box;margin-bottom: 0.5em;}#sk-container-id-1 div.sk-estimator:hover {background-color: #d4ebff;}#sk-container-id-1 div.sk-parallel-item::after {content: \"\";width: 100%;border-bottom: 1px solid gray;flex-grow: 1;}#sk-container-id-1 div.sk-label:hover label.sk-toggleable__label {background-color: #d4ebff;}#sk-container-id-1 div.sk-serial::before {content: \"\";position: absolute;border-left: 1px solid gray;box-sizing: border-box;top: 0;bottom: 0;left: 50%;z-index: 0;}#sk-container-id-1 div.sk-serial {display: flex;flex-direction: column;align-items: center;background-color: white;padding-right: 0.2em;padding-left: 0.2em;position: relative;}#sk-container-id-1 div.sk-item {position: relative;z-index: 1;}#sk-container-id-1 div.sk-parallel {display: flex;align-items: stretch;justify-content: center;background-color: white;position: relative;}#sk-container-id-1 div.sk-item::before, #sk-container-id-1 div.sk-parallel-item::before {content: \"\";position: absolute;border-left: 1px solid gray;box-sizing: border-box;top: 0;bottom: 0;left: 50%;z-index: -1;}#sk-container-id-1 div.sk-parallel-item {display: flex;flex-direction: column;z-index: 1;position: relative;background-color: white;}#sk-container-id-1 div.sk-parallel-item:first-child::after {align-self: flex-end;width: 50%;}#sk-container-id-1 div.sk-parallel-item:last-child::after {align-self: flex-start;width: 50%;}#sk-container-id-1 div.sk-parallel-item:only-child::after {width: 0;}#sk-container-id-1 div.sk-dashed-wrapped {border: 1px dashed gray;margin: 0 0.4em 0.5em 0.4em;box-sizing: border-box;padding-bottom: 0.4em;background-color: white;}#sk-container-id-1 div.sk-label label {font-family: monospace;font-weight: bold;display: inline-block;line-height: 1.2em;}#sk-container-id-1 div.sk-label-container {text-align: center;}#sk-container-id-1 div.sk-container {/* jupyter's `normalize.less` sets `[hidden] { display: none; }` but bootstrap.min.css set `[hidden] { display: none !important; }` so we also need the `!important` here to be able to override the default hidden behavior on the sphinx rendered scikit-learn.org. See: https://github.com/scikit-learn/scikit-learn/issues/21755 */display: inline-block !important;position: relative;}#sk-container-id-1 div.sk-text-repr-fallback {display: none;}</style><div id=\"sk-container-id-1\" class=\"sk-top-container\"><div class=\"sk-text-repr-fallback\"><pre>LinearRegression(n_jobs=-1)</pre><b>In a Jupyter environment, please rerun this cell to show the HTML representation or trust the notebook. <br />On GitHub, the HTML representation is unable to render, please try loading this page with nbviewer.org.</b></div><div class=\"sk-container\" hidden><div class=\"sk-item\"><div class=\"sk-estimator sk-toggleable\"><input class=\"sk-toggleable__control sk-hidden--visually\" id=\"sk-estimator-id-1\" type=\"checkbox\" checked><label for=\"sk-estimator-id-1\" class=\"sk-toggleable__label sk-toggleable__label-arrow\">LinearRegression</label><div class=\"sk-toggleable__content\"><pre>LinearRegression(n_jobs=-1)</pre></div></div></div></div></div>"
      ],
      "text/plain": [
       "LinearRegression(n_jobs=-1)"
      ]
     },
     "execution_count": 8,
     "metadata": {},
     "output_type": "execute_result"
    }
   ],
   "source": [
    "# Hacemos fit al modelo: significa que le pasamos los datos para que aprenda el algoritmo\n",
    "\n",
    "lr.fit(x_train, y_train)"
   ]
  },
  {
   "cell_type": "code",
   "execution_count": 9,
   "metadata": {},
   "outputs": [],
   "source": [
    "# A continuación, usamos el método predict() de sklearn para obtener nuestras predicciones\n",
    "\n",
    "y_predict_train = lr.predict(x_train)\n",
    "y_predict_test = lr.predict(x_test) "
   ]
  },
  {
   "cell_type": "code",
   "execution_count": 10,
   "metadata": {},
   "outputs": [
    {
     "data": {
      "text/html": [
       "<div>\n",
       "<style scoped>\n",
       "    .dataframe tbody tr th:only-of-type {\n",
       "        vertical-align: middle;\n",
       "    }\n",
       "\n",
       "    .dataframe tbody tr th {\n",
       "        vertical-align: top;\n",
       "    }\n",
       "\n",
       "    .dataframe thead th {\n",
       "        text-align: right;\n",
       "    }\n",
       "</style>\n",
       "<table border=\"1\" class=\"dataframe\">\n",
       "  <thead>\n",
       "    <tr style=\"text-align: right;\">\n",
       "      <th></th>\n",
       "      <th>Real</th>\n",
       "      <th>Predichos</th>\n",
       "      <th>Set</th>\n",
       "    </tr>\n",
       "  </thead>\n",
       "  <tbody>\n",
       "    <tr>\n",
       "      <th>1483</th>\n",
       "      <td>21.921080</td>\n",
       "      <td>21.391951</td>\n",
       "      <td>Train</td>\n",
       "    </tr>\n",
       "    <tr>\n",
       "      <th>769</th>\n",
       "      <td>28.841167</td>\n",
       "      <td>28.977110</td>\n",
       "      <td>Train</td>\n",
       "    </tr>\n",
       "  </tbody>\n",
       "</table>\n",
       "</div>"
      ],
      "text/plain": [
       "           Real  Predichos    Set\n",
       "1483  21.921080  21.391951  Train\n",
       "769   28.841167  28.977110  Train"
      ]
     },
     "execution_count": 10,
     "metadata": {},
     "output_type": "execute_result"
    }
   ],
   "source": [
    "#Sacamos los dataframes de los modelos de entrenamiento y test y, seguidamente, los unimos con un concat()\n",
    "\n",
    "train_df = pd.DataFrame({'Real': y_train, 'Predichos': y_predict_train, 'Set': ['Train']*len(y_train)})\n",
    "test_df  = pd.DataFrame({'Real': y_test,  'Predichos': y_predict_test,  'Set': ['Test']*len(y_test)})\n",
    "\n",
    "resultados = pd.concat([train_df,test_df], axis = 0)\n",
    "resultados.sample (2)"
   ]
  },
  {
   "cell_type": "code",
   "execution_count": 11,
   "metadata": {},
   "outputs": [
    {
     "data": {
      "text/html": [
       "<div>\n",
       "<style scoped>\n",
       "    .dataframe tbody tr th:only-of-type {\n",
       "        vertical-align: middle;\n",
       "    }\n",
       "\n",
       "    .dataframe tbody tr th {\n",
       "        vertical-align: top;\n",
       "    }\n",
       "\n",
       "    .dataframe thead th {\n",
       "        text-align: right;\n",
       "    }\n",
       "</style>\n",
       "<table border=\"1\" class=\"dataframe\">\n",
       "  <thead>\n",
       "    <tr style=\"text-align: right;\">\n",
       "      <th></th>\n",
       "      <th>Real</th>\n",
       "      <th>Predichos</th>\n",
       "      <th>Set</th>\n",
       "      <th>residuos</th>\n",
       "    </tr>\n",
       "  </thead>\n",
       "  <tbody>\n",
       "    <tr>\n",
       "      <th>1197</th>\n",
       "      <td>9.993857</td>\n",
       "      <td>11.128812</td>\n",
       "      <td>Test</td>\n",
       "      <td>-1.134955</td>\n",
       "    </tr>\n",
       "    <tr>\n",
       "      <th>1121</th>\n",
       "      <td>28.098260</td>\n",
       "      <td>28.333094</td>\n",
       "      <td>Train</td>\n",
       "      <td>-0.234835</td>\n",
       "    </tr>\n",
       "    <tr>\n",
       "      <th>930</th>\n",
       "      <td>22.346277</td>\n",
       "      <td>22.063294</td>\n",
       "      <td>Train</td>\n",
       "      <td>0.282983</td>\n",
       "    </tr>\n",
       "    <tr>\n",
       "      <th>173</th>\n",
       "      <td>29.755501</td>\n",
       "      <td>30.107385</td>\n",
       "      <td>Test</td>\n",
       "      <td>-0.351885</td>\n",
       "    </tr>\n",
       "    <tr>\n",
       "      <th>741</th>\n",
       "      <td>13.811710</td>\n",
       "      <td>13.971204</td>\n",
       "      <td>Test</td>\n",
       "      <td>-0.159494</td>\n",
       "    </tr>\n",
       "  </tbody>\n",
       "</table>\n",
       "</div>"
      ],
      "text/plain": [
       "           Real  Predichos    Set  residuos\n",
       "1197   9.993857  11.128812   Test -1.134955\n",
       "1121  28.098260  28.333094  Train -0.234835\n",
       "930   22.346277  22.063294  Train  0.282983\n",
       "173   29.755501  30.107385   Test -0.351885\n",
       "741   13.811710  13.971204   Test -0.159494"
      ]
     },
     "execution_count": 11,
     "metadata": {},
     "output_type": "execute_result"
    }
   ],
   "source": [
    "#Haciendo un sample de los resultados obtenidos, podemos ver que tenemos residuos tanto positivos como negativos,\n",
    "#por lo que en algunos casos se infraestima y en otros se sobrestima\n",
    "\n",
    "resultados['residuos'] = resultados['Real'] - resultados['Predichos']\n",
    "resultados.sample(5)"
   ]
  },
  {
   "cell_type": "code",
   "execution_count": 16,
   "metadata": {},
   "outputs": [
    {
     "data": {
      "image/png": "[encoded data removed]",
      "text/plain": [
       "<Figure size 1080x1080 with 4 Axes>"
      ]
     },
     "metadata": {
      "needs_background": "light"
     },
     "output_type": "display_data"
    }
   ],
   "source": [
    "fig, ax = plt.subplots(2,2,figsize=(15,15))\n",
    "\n",
    "\n",
    "# ploteamos los reales vs los predichos\n",
    "sns.regplot(data = resultados[resultados['Set'] == \"Train\"], \n",
    "            x = \"Real\", \n",
    "            y = \"Predichos\", \n",
    "            ax = ax[0,0], \n",
    "            color = \"steelblue\",\n",
    "            line_kws = {\"color\": \"crimson\", \"alpha\": 0.7 })\n",
    "\n",
    "\n",
    "sns.regplot(data = resultados[resultados['Set'] == \"Test\"], \n",
    "            x = \"Real\",\n",
    "            y = \"Predichos\", \n",
    "            color = \"steelblue\",\n",
    "            line_kws = {\"color\": \"crimson\", \"alpha\": 0.7 }, \n",
    "            ax = ax[1,0])\n",
    "\n",
    "\n",
    "# ploteamos los residuos\n",
    "sns.histplot(resultados[resultados['Set'] == \"Train\"],\n",
    "             x=\"residuos\",\n",
    "             color =\"mediumslateblue\",\n",
    "             kde=True, \n",
    "             ax = ax[0,1])\n",
    "\n",
    "\n",
    "sns.histplot(resultados[resultados['Set'] == \"Test\"],\n",
    "             x=\"residuos\",\n",
    "             color = \"mediumslateblue\",\n",
    "             kde=True, \n",
    "             ax = ax[1,1])\n",
    "\n",
    "ax[0,0].set_title(\"Train reales vs predichos\", fontsize = 15, fontweight = \"bold\")\n",
    "ax[0,1].set_title(\"Train residuos\", fontsize = 15, fontweight = \"bold\")\n",
    "ax[1,0].set_title(\"Test reales vs predichos\", fontsize = 15, fontweight = \"bold\")\n",
    "ax[1,1].set_title(\"Test residuos\", fontsize = 15, fontweight = \"bold\");"
   ]
  },
  {
   "attachments": {},
   "cell_type": "markdown",
   "metadata": {},
   "source": [
    "- Cálculo de las métricas"
   ]
  },
  {
   "cell_type": "code",
   "execution_count": null,
   "metadata": {},
   "outputs": [
    {
     "name": "stdout",
     "output_type": "stream",
     "text": [
      "Para el conjunto train:---------------\n",
      "El valor de r2 score es  0.9891849016612178\n",
      "El MAE es 0.46891152796387947\n",
      "El MSE es 0.4536421449620083\n",
      "EL RMSE es  0.6735296169894894\n"
     ]
    }
   ],
   "source": [
    "#Para el conjunto de entrenamsiento las métricas han sido\n",
    "\n",
    "print('Para el conjunto train:---------------')\n",
    "print('El valor de r2 score es ',r2_score(y_train,y_predict_train))\n",
    "print('El MAE es',mean_absolute_error(y_train,y_predict_train))\n",
    "print('El MSE es',mean_squared_error(y_train,y_predict_train))\n",
    "print('EL RMSE es ',np.sqrt(mean_squared_error(y_train,y_predict_train)))"
   ]
  },
  {
   "cell_type": "code",
   "execution_count": null,
   "metadata": {},
   "outputs": [
    {
     "name": "stdout",
     "output_type": "stream",
     "text": [
      "Para el conjunto test:---------------\n",
      "El valor de r2 score es  0.9908055147713373\n",
      "El MAE es 0.459945808883166\n",
      "El MSE es 0.4094236248184802\n",
      "EL RMSE es  0.6398621920526952\n"
     ]
    }
   ],
   "source": [
    "# Para el conjunto de test las métricas han sido\n",
    "\n",
    "print('Para el conjunto test:---------------')\n",
    "print('El valor de r2 score es ',r2_score(y_test,y_predict_test))\n",
    "print('El MAE es',mean_absolute_error(y_test,y_predict_test))\n",
    "print('El MSE es',mean_squared_error(y_test,y_predict_test))\n",
    "print('EL RMSE es ',np.sqrt(mean_squared_error(y_test,y_predict_test)))"
   ]
  },
  {
   "cell_type": "code",
   "execution_count": null,
   "metadata": {},
   "outputs": [
    {
     "data": {
      "text/html": [
       "<div>\n",
       "<style scoped>\n",
       "    .dataframe tbody tr th:only-of-type {\n",
       "        vertical-align: middle;\n",
       "    }\n",
       "\n",
       "    .dataframe tbody tr th {\n",
       "        vertical-align: top;\n",
       "    }\n",
       "\n",
       "    .dataframe thead th {\n",
       "        text-align: right;\n",
       "    }\n",
       "</style>\n",
       "<table border=\"1\" class=\"dataframe\">\n",
       "  <thead>\n",
       "    <tr style=\"text-align: right;\">\n",
       "      <th></th>\n",
       "      <th>MAE</th>\n",
       "      <th>MSE</th>\n",
       "      <th>RMSE</th>\n",
       "      <th>R2</th>\n",
       "      <th>set</th>\n",
       "      <th>modelo</th>\n",
       "    </tr>\n",
       "  </thead>\n",
       "  <tbody>\n",
       "    <tr>\n",
       "      <th>0</th>\n",
       "      <td>0.459946</td>\n",
       "      <td>0.409424</td>\n",
       "      <td>0.639862</td>\n",
       "      <td>0.990806</td>\n",
       "      <td>test</td>\n",
       "      <td>Linear Regresion</td>\n",
       "    </tr>\n",
       "    <tr>\n",
       "      <th>1</th>\n",
       "      <td>0.468912</td>\n",
       "      <td>0.453642</td>\n",
       "      <td>0.673530</td>\n",
       "      <td>0.989185</td>\n",
       "      <td>train</td>\n",
       "      <td>LinearRegression</td>\n",
       "    </tr>\n",
       "  </tbody>\n",
       "</table>\n",
       "</div>"
      ],
      "text/plain": [
       "        MAE       MSE      RMSE        R2    set            modelo\n",
       "0  0.459946  0.409424  0.639862  0.990806   test  Linear Regresion\n",
       "1  0.468912  0.453642  0.673530  0.989185  train  LinearRegression"
      ]
     },
     "execution_count": 15,
     "metadata": {},
     "output_type": "execute_result"
    }
   ],
   "source": [
    "resultados_metricas = {'MAE': [mean_absolute_error(y_test, y_predict_test), mean_absolute_error(y_train, y_predict_train)],\n",
    "                       'MSE': [mean_squared_error(y_test, y_predict_test), mean_squared_error(y_train, y_predict_train)],\n",
    "                       'RMSE': [np.sqrt(mean_squared_error(y_test, y_predict_test)), np.sqrt(mean_squared_error(y_train, y_predict_train))],\n",
    "                       'R2':  [r2_score(y_test, y_predict_test), r2_score(y_train, y_predict_train)],\n",
    "                       \"set\": [\"test\", \"train\"], \"modelo\": [\"Linear Regresion\", \"LinearRegression\"]}\n",
    "\n",
    "df_resultados = pd.DataFrame(resultados_metricas)\n",
    "df_resultados"
   ]
  },
  {
   "cell_type": "code",
   "execution_count": null,
   "metadata": {},
   "outputs": [],
   "source": [
    "df_resultados.to_csv('datos/pokePdresultados.csv')"
   ]
  },
  {
   "attachments": {},
   "cell_type": "markdown",
   "metadata": {},
   "source": [
    "Interpretar resultados:\n",
    "\n",
    "Tras haber realizado el ajuste lineal, hemos empleado diversas métricas o estimaciones de la bondad, es decir, como de bueno es nuestro modelo prediciendo nuevos datos.\n",
    "\n",
    "- R2: si nos fijamos en el test, tenemos un valor de 0.99, es decir, nuestro modelo con nuestras variables predictoras explica un 99% de la variación de los datos de la velocidad, que es nuestra variable respuesta (horquilla de error)\n",
    "\n",
    "- Los valores del train son ligeramente peores, pero no tenemos underfitting con esta diferencia.\n",
    "\n",
    "- En nuestro caso los valores del test son mejores que los del train, las diferencias que tenemos respecto a los valores que hemos visto en las gráficas son muy pequeñas, los datos están bastante ajustados a la línea de regresión. Los datos sugieren que los valores del test son mejores que los del train, pero con estas diferencias tampoco hay tanta diferencia como para asegurar que tengamos overfitting."
   ]
  }
 ],
 "metadata": {
  "kernelspec": {
   "display_name": "Python 3",
   "language": "python",
   "name": "python3"
  },
  "language_info": {
   "codemirror_mode": {
    "name": "ipython",
    "version": 3
   },
   "file_extension": ".py",
   "mimetype": "text/x-python",
   "name": "python",
   "nbconvert_exporter": "python",
   "pygments_lexer": "ipython3",
   "version": "3.9.7"
  },
  "orig_nbformat": 4,
  "vscode": {
   "interpreter": {
    "hash": "3a19f00f41f77a1ebaccda73eb3290ec65e6f87c37187114d21c22f44ded00c5"
   }
  }
 },
 "nbformat": 4,
 "nbformat_minor": 2
}
