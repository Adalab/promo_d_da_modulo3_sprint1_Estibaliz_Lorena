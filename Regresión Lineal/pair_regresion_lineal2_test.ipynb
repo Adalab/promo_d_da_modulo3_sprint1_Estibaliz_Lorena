{
 "cells": [
  {
   "attachments": {},
   "cell_type": "markdown",
   "metadata": {},
   "source": [
    "##### PAIR PROGRAMMING REGRESIÓN LINEAL 2 - TEST ESTADÍSTICOS\n"
   ]
  },
  {
   "cell_type": "code",
   "execution_count": 1,
   "metadata": {},
   "outputs": [],
   "source": [
    "from scipy import stats\n",
    "from scipy.stats import kurtosistest\n",
    "from scipy.stats import skew\n",
    "import statsmodels.api as sm\n",
    "import ast\n",
    "import warnings\n",
    "import pandas as pd\n",
    "import numpy as np\n",
    "\n",
    "# librerías para la visualización de los datos\n",
    "# ============================================\n",
    "import matplotlib.pyplot as plt\n",
    "import seaborn as sns\n",
    "\n",
    "# Establecer tamaño fijo de gráficas\n",
    "# ==================================\n",
    "plt.rcParams[\"figure.figsize\"] = (10, 8)\n",
    "\n",
    "# Configuración warnings\n",
    "# ======================\n",
    "warnings.filterwarnings('ignore')\n",
    "\n",
    "# libreria para cambio de tipo de dato de string a lista\n",
    "\n",
    "# importamos la librería statsmodels para hacer el gráfico de cuantiles teóricos (Q-Q plot)\n",
    "\n",
    "# importamos esta librería para calcular el sesgo (Skew)\n",
    "\n",
    "# importamos esta libreria para calcular la curtosis\n",
    "\n",
    "# importamos stats para test de shapiro"
   ]
  },
  {
   "attachments": {},
   "cell_type": "markdown",
   "metadata": {},
   "source": [
    "- OBJETIVOS:\n",
    "\n",
    "En este ejercicio de pair programming seguiréis usando el dataset que seleccionasteis ayer"
   ]
  },
  {
   "attachments": {},
   "cell_type": "markdown",
   "metadata": {},
   "source": [
    "1. ¿Qué diferencia existe el error de tipo I y el error de tipo II?\n"
   ]
  },
  {
   "attachments": {},
   "cell_type": "markdown",
   "metadata": {},
   "source": [
    "##### RESPUESTA\n",
    "\n",
    "- El error de tipo I lo cometemos si rechazamos la hipótesis nula cuando es verdadera. La probabilidad de cometer este error es Alfa, que es el nivel de significancia que establecemos, normalmente es 0.05. Esto indica que estamos aceptando con una probabilidad del 5% estar rechazando la hipótesis nula.\n",
    "\n",
    "- EL error de tipo II lo cometemos cuando la H0 es falsa y no la rechazamos, es decir, por ejemplo, en nuestro caso si decimos que la velocidad si afecta, pero en realidad no. La probabilidad de cometer este tipo de error es Beta, que depende de la potencia de la prueba. Podemos reducir el riesgo de cometer este error, si nos aseguramos de que la prueba tiene la suficiente potencia. Esto se consigue aumentando el tamaño de la muestra. "
   ]
  },
  {
   "attachments": {},
   "cell_type": "markdown",
   "metadata": {},
   "source": [
    "2. ¿Qué es la asimetría?\n"
   ]
  },
  {
   "attachments": {},
   "cell_type": "markdown",
   "metadata": {},
   "source": [
    "- La asimetría es la falta de simetría que presenta una distribución, teniendo en cuenta la media. Una distribución asimétrica puede tener una curva\n",
    "  sesgada hacia la derecha o la izquierda. La asimetría se puede determinar según la forma en que la media, la mediana y la moda de una distribución se relacionan entre sí. \n",
    "  - Podemos tener distribuciones asimétricas positivas cuando la media es mayor que la mediana y la moda.\n",
    "  - Podemos tener distribuciones asimétricas negativas cuando la media es menor que la mediana y la moda.\n",
    "  "
   ]
  },
  {
   "attachments": {},
   "cell_type": "markdown",
   "metadata": {},
   "source": [
    "3. ¿Es vuestra variable respuesta asimétrica?\n"
   ]
  },
  {
   "cell_type": "code",
   "execution_count": 2,
   "metadata": {},
   "outputs": [
    {
     "data": {
      "text/html": [
       "<div>\n",
       "<style scoped>\n",
       "    .dataframe tbody tr th:only-of-type {\n",
       "        vertical-align: middle;\n",
       "    }\n",
       "\n",
       "    .dataframe tbody tr th {\n",
       "        vertical-align: top;\n",
       "    }\n",
       "\n",
       "    .dataframe thead th {\n",
       "        text-align: right;\n",
       "    }\n",
       "</style>\n",
       "<table border=\"1\" class=\"dataframe\">\n",
       "  <thead>\n",
       "    <tr style=\"text-align: right;\">\n",
       "      <th></th>\n",
       "      <th>Type</th>\n",
       "      <th>Total</th>\n",
       "      <th>HP</th>\n",
       "      <th>Attack</th>\n",
       "      <th>Defense</th>\n",
       "      <th>Sp.Atk</th>\n",
       "      <th>Sp.Def</th>\n",
       "      <th>Speed</th>\n",
       "    </tr>\n",
       "  </thead>\n",
       "  <tbody>\n",
       "    <tr>\n",
       "      <th>0</th>\n",
       "      <td>Grass</td>\n",
       "      <td>318</td>\n",
       "      <td>45</td>\n",
       "      <td>49</td>\n",
       "      <td>49</td>\n",
       "      <td>65</td>\n",
       "      <td>65</td>\n",
       "      <td>45</td>\n",
       "    </tr>\n",
       "    <tr>\n",
       "      <th>1</th>\n",
       "      <td>Poison</td>\n",
       "      <td>318</td>\n",
       "      <td>45</td>\n",
       "      <td>49</td>\n",
       "      <td>49</td>\n",
       "      <td>65</td>\n",
       "      <td>65</td>\n",
       "      <td>45</td>\n",
       "    </tr>\n",
       "    <tr>\n",
       "      <th>2</th>\n",
       "      <td>Grass</td>\n",
       "      <td>405</td>\n",
       "      <td>60</td>\n",
       "      <td>62</td>\n",
       "      <td>63</td>\n",
       "      <td>80</td>\n",
       "      <td>80</td>\n",
       "      <td>60</td>\n",
       "    </tr>\n",
       "    <tr>\n",
       "      <th>3</th>\n",
       "      <td>Poison</td>\n",
       "      <td>405</td>\n",
       "      <td>60</td>\n",
       "      <td>62</td>\n",
       "      <td>63</td>\n",
       "      <td>80</td>\n",
       "      <td>80</td>\n",
       "      <td>60</td>\n",
       "    </tr>\n",
       "    <tr>\n",
       "      <th>4</th>\n",
       "      <td>Grass</td>\n",
       "      <td>525</td>\n",
       "      <td>80</td>\n",
       "      <td>82</td>\n",
       "      <td>83</td>\n",
       "      <td>100</td>\n",
       "      <td>100</td>\n",
       "      <td>80</td>\n",
       "    </tr>\n",
       "  </tbody>\n",
       "</table>\n",
       "</div>"
      ],
      "text/plain": [
       "     Type  Total  HP  Attack  Defense  Sp.Atk  Sp.Def  Speed\n",
       "0   Grass    318  45      49       49      65      65     45\n",
       "1  Poison    318  45      49       49      65      65     45\n",
       "2   Grass    405  60      62       63      80      80     60\n",
       "3  Poison    405  60      62       63      80      80     60\n",
       "4   Grass    525  80      82       83     100     100     80"
      ]
     },
     "execution_count": 2,
     "metadata": {},
     "output_type": "execute_result"
    }
   ],
   "source": [
    "df = pd.read_csv('../datos/pokePd1.csv', index_col = 0)\n",
    "df.head()"
   ]
  },
  {
   "cell_type": "code",
   "execution_count": 9,
   "metadata": {},
   "outputs": [
    {
     "data": {
      "image/png": "[encoded data removed]",
      "text/plain": [
       "<Figure size 720x576 with 1 Axes>"
      ]
     },
     "metadata": {
      "needs_background": "light"
     },
     "output_type": "display_data"
    }
   ],
   "source": [
    "#Comprobamos que nuestra variable respuesta es asimétrica\n",
    "\n",
    "sns.distplot(\n",
    "    df['Speed'], \n",
    "    hist = False, \n",
    "    color = \"darkblue\", \n",
    "    kde_kws = {\"shade\": True, \"linewidth\": 1});"
   ]
  },
  {
   "cell_type": "code",
   "execution_count": 4,
   "metadata": {},
   "outputs": [
    {
     "data": {
      "text/html": [
       "<div>\n",
       "<style scoped>\n",
       "    .dataframe tbody tr th:only-of-type {\n",
       "        vertical-align: middle;\n",
       "    }\n",
       "\n",
       "    .dataframe tbody tr th {\n",
       "        vertical-align: top;\n",
       "    }\n",
       "\n",
       "    .dataframe thead th {\n",
       "        text-align: right;\n",
       "    }\n",
       "</style>\n",
       "<table border=\"1\" class=\"dataframe\">\n",
       "  <thead>\n",
       "    <tr style=\"text-align: right;\">\n",
       "      <th></th>\n",
       "      <th>Total</th>\n",
       "      <th>HP</th>\n",
       "      <th>Attack</th>\n",
       "      <th>Defense</th>\n",
       "      <th>Sp.Atk</th>\n",
       "      <th>Sp.Def</th>\n",
       "      <th>Speed</th>\n",
       "    </tr>\n",
       "  </thead>\n",
       "  <tbody>\n",
       "    <tr>\n",
       "      <th>0</th>\n",
       "      <td>318</td>\n",
       "      <td>45</td>\n",
       "      <td>49</td>\n",
       "      <td>49</td>\n",
       "      <td>65</td>\n",
       "      <td>65</td>\n",
       "      <td>45</td>\n",
       "    </tr>\n",
       "    <tr>\n",
       "      <th>1</th>\n",
       "      <td>318</td>\n",
       "      <td>45</td>\n",
       "      <td>49</td>\n",
       "      <td>49</td>\n",
       "      <td>65</td>\n",
       "      <td>65</td>\n",
       "      <td>45</td>\n",
       "    </tr>\n",
       "    <tr>\n",
       "      <th>2</th>\n",
       "      <td>405</td>\n",
       "      <td>60</td>\n",
       "      <td>62</td>\n",
       "      <td>63</td>\n",
       "      <td>80</td>\n",
       "      <td>80</td>\n",
       "      <td>60</td>\n",
       "    </tr>\n",
       "    <tr>\n",
       "      <th>3</th>\n",
       "      <td>405</td>\n",
       "      <td>60</td>\n",
       "      <td>62</td>\n",
       "      <td>63</td>\n",
       "      <td>80</td>\n",
       "      <td>80</td>\n",
       "      <td>60</td>\n",
       "    </tr>\n",
       "    <tr>\n",
       "      <th>4</th>\n",
       "      <td>525</td>\n",
       "      <td>80</td>\n",
       "      <td>82</td>\n",
       "      <td>83</td>\n",
       "      <td>100</td>\n",
       "      <td>100</td>\n",
       "      <td>80</td>\n",
       "    </tr>\n",
       "    <tr>\n",
       "      <th>...</th>\n",
       "      <td>...</td>\n",
       "      <td>...</td>\n",
       "      <td>...</td>\n",
       "      <td>...</td>\n",
       "      <td>...</td>\n",
       "      <td>...</td>\n",
       "      <td>...</td>\n",
       "    </tr>\n",
       "    <tr>\n",
       "      <th>1575</th>\n",
       "      <td>550</td>\n",
       "      <td>100</td>\n",
       "      <td>130</td>\n",
       "      <td>100</td>\n",
       "      <td>63</td>\n",
       "      <td>60</td>\n",
       "      <td>97</td>\n",
       "    </tr>\n",
       "    <tr>\n",
       "      <th>1576</th>\n",
       "      <td>550</td>\n",
       "      <td>100</td>\n",
       "      <td>130</td>\n",
       "      <td>100</td>\n",
       "      <td>63</td>\n",
       "      <td>60</td>\n",
       "      <td>97</td>\n",
       "    </tr>\n",
       "    <tr>\n",
       "      <th>1577</th>\n",
       "      <td>550</td>\n",
       "      <td>100</td>\n",
       "      <td>130</td>\n",
       "      <td>100</td>\n",
       "      <td>63</td>\n",
       "      <td>60</td>\n",
       "      <td>97</td>\n",
       "    </tr>\n",
       "    <tr>\n",
       "      <th>1578</th>\n",
       "      <td>600</td>\n",
       "      <td>105</td>\n",
       "      <td>120</td>\n",
       "      <td>105</td>\n",
       "      <td>70</td>\n",
       "      <td>95</td>\n",
       "      <td>105</td>\n",
       "    </tr>\n",
       "    <tr>\n",
       "      <th>1579</th>\n",
       "      <td>600</td>\n",
       "      <td>105</td>\n",
       "      <td>120</td>\n",
       "      <td>105</td>\n",
       "      <td>70</td>\n",
       "      <td>95</td>\n",
       "      <td>105</td>\n",
       "    </tr>\n",
       "  </tbody>\n",
       "</table>\n",
       "<p>1580 rows × 7 columns</p>\n",
       "</div>"
      ],
      "text/plain": [
       "      Total   HP  Attack  Defense  Sp.Atk  Sp.Def  Speed\n",
       "0       318   45      49       49      65      65     45\n",
       "1       318   45      49       49      65      65     45\n",
       "2       405   60      62       63      80      80     60\n",
       "3       405   60      62       63      80      80     60\n",
       "4       525   80      82       83     100     100     80\n",
       "...     ...  ...     ...      ...     ...     ...    ...\n",
       "1575    550  100     130      100      63      60     97\n",
       "1576    550  100     130      100      63      60     97\n",
       "1577    550  100     130      100      63      60     97\n",
       "1578    600  105     120      105      70      95    105\n",
       "1579    600  105     120      105      70      95    105\n",
       "\n",
       "[1580 rows x 7 columns]"
      ]
     },
     "execution_count": 4,
     "metadata": {},
     "output_type": "execute_result"
    }
   ],
   "source": [
    "df_numericas = df.select_dtypes(include= np.number)\n",
    "df_numericas"
   ]
  },
  {
   "cell_type": "code",
   "execution_count": 10,
   "metadata": {},
   "outputs": [
    {
     "data": {
      "image/png": "[encoded data removed]",
      "text/plain": [
       "<Figure size 720x576 with 1 Axes>"
      ]
     },
     "metadata": {
      "needs_background": "light"
     },
     "output_type": "display_data"
    }
   ],
   "source": [
    "#Con el histograma representamos los datos observados de la variable respuesta \"Velocidad\" y una curva de ajuste, que es el parámetro kde\n",
    "\n",
    "sns.histplot(df_numericas['Speed'], kde = True, color = 'teal');"
   ]
  },
  {
   "cell_type": "code",
   "execution_count": 14,
   "metadata": {},
   "outputs": [
    {
     "data": {
      "image/png": "[encoded data removed]",
      "text/plain": [
       "<Figure size 720x576 with 1 Axes>"
      ]
     },
     "metadata": {
      "needs_background": "light"
     },
     "output_type": "display_data"
    }
   ],
   "source": [
    "#Vemos que los datos no se acercan mucho a una campana de Gauss, así que vamos obtener el Q-Q plot:\n",
    "sm.qqplot(df_numericas['Speed'], line = '45', color='cadetblue', marker= 's');"
   ]
  },
  {
   "attachments": {},
   "cell_type": "markdown",
   "metadata": {},
   "source": [
    "- Vemos que en nuestro caso esto no se cumple.\n",
    "- A continuación, intentamos medir la simetría de nuestra variable respuesta.\n",
    "- Observamos que se trata de una distribución asimetrica positiva y que, por lo tanto, nuestros datos NO van a ser normales."
   ]
  },
  {
   "attachments": {},
   "cell_type": "markdown",
   "metadata": {},
   "source": [
    "4. ¿Qué tipo de curtosis presenta vuestra variable respuesta?\n"
   ]
  },
  {
   "cell_type": "code",
   "execution_count": 7,
   "metadata": {},
   "outputs": [
    {
     "data": {
      "text/plain": [
       "KurtosistestResult(statistic=-3.7961615242271596, pvalue=0.0001469537702137451)"
      ]
     },
     "execution_count": 7,
     "metadata": {},
     "output_type": "execute_result"
    }
   ],
   "source": [
    "# la curtosis determina el grado de concentración que presentan los valores de una variable alrededor de la zona central de distribución de frecuencias\n",
    "# es decir, la morfología de la curva\n",
    "# nos da un valor de cero por lo que nuestra curtosis podría parecerse a una curtosis mesocurtica\n",
    "\n",
    "\n",
    "kurtosistest(df_numericas['Speed'])"
   ]
  },
  {
   "attachments": {},
   "cell_type": "markdown",
   "metadata": {},
   "source": [
    "5. ¿Es vuestra variable respuesta normal? Demostrarlo visual y analíticamente."
   ]
  },
  {
   "cell_type": "code",
   "execution_count": 8,
   "metadata": {},
   "outputs": [
    {
     "data": {
      "text/plain": [
       "ShapiroResult(statistic=0.9851946830749512, pvalue=1.1599554650132404e-11)"
      ]
     },
     "execution_count": 8,
     "metadata": {},
     "output_type": "execute_result"
    }
   ],
   "source": [
    "#Realizamos el test de shapiro-wilk para obtener de forma analítica si nuestra VR es normal o no\n",
    "#Vemos que el p-value es menor que 0.05 por lo que rechazamos la HO (los datos son normales): nuestros datos no son normales\n",
    "\n",
    "stats.shapiro(df_numericas['Speed'])"
   ]
  }
 ],
 "metadata": {
  "kernelspec": {
   "display_name": "adalabenv",
   "language": "python",
   "name": "python3"
  },
  "language_info": {
   "codemirror_mode": {
    "name": "ipython",
    "version": 3
   },
   "file_extension": ".py",
   "mimetype": "text/x-python",
   "name": "python",
   "nbconvert_exporter": "python",
   "pygments_lexer": "ipython3",
   "version": "3.9.7"
  },
  "orig_nbformat": 4,
  "vscode": {
   "interpreter": {
    "hash": "0b8bbabd87d3ce636409443d1398e5656bf795e33c753b5e821c4b969f4e6c41"
   }
  }
 },
 "nbformat": 4,
 "nbformat_minor": 2
}
